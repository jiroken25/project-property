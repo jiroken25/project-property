{
 "cells": [
  {
   "cell_type": "code",
   "execution_count": 17,
   "metadata": {},
   "outputs": [],
   "source": [
    "# Dependencies and Setup\n",
    "import matplotlib.pyplot as plt\n",
    "import pandas as pd\n",
    "import numpy as np\n",
    "import requests\n",
    "import gmaps\n",
    "import os\n",
    "\n",
    "# Import API key\n",
    "from config import g_key"
   ]
  },
  {
   "cell_type": "code",
   "execution_count": 22,
   "metadata": {},
   "outputs": [
    {
     "data": {
      "text/plain": [
       "Unnamed: 0                                                   0\n",
       "SA2 Name                         Alexander Heights - Koondoola\n",
       "median_income of suburb                                1189.17\n",
       "median_rent                                            278.125\n",
       "median_mortgage_repayment                              348.356\n",
       "unemployment_rate                                    0.0466526\n",
       "unoccupied_rate                                      0.0528926\n",
       "yearly building_approval                                     1\n",
       "Greater Perth median income                            2333.17\n",
       "qualyfing_income(mortgage)                             1161.19\n",
       "affordability_index(mortgage)                          77.5362\n",
       "qualyfing_income(rent)                                 927.083\n",
       "affordability_index(rent)                               90.395\n",
       "dtype: object"
      ]
     },
     "execution_count": 22,
     "metadata": {},
     "output_type": "execute_result"
    }
   ],
   "source": [
    "sa2_df = pd.read_csv(\"resources/affordability.csv\")\n",
    "sa2_df.min()"
   ]
  },
  {
   "cell_type": "code",
   "execution_count": 19,
   "metadata": {},
   "outputs": [],
   "source": [
    "gmaps.configure(api_key=g_key)"
   ]
  },
  {
   "cell_type": "code",
   "execution_count": 25,
   "metadata": {},
   "outputs": [],
   "source": [
    "sa2_coordinates = {\"SA2 Name\":[],\"lat\":[],\"lng\":[]}\n",
    "for address in sa2_df[\"SA2 Name\"]:\n",
    "    url = \"https://maps.googleapis.com/maps/api/geocode/json\"\n",
    "    parameter = {\"address\":address +\" ,WA\", \"key\":g_key}\n",
    "    response = requests.get(url, params = parameter)\n",
    "    data = response.json()\n",
    "    try:\n",
    "        sa2_coordinates[\"lat\"].append(data[\"results\"][0][\"geometry\"][\"location\"][\"lat\"])\n",
    "        sa2_coordinates[\"lng\"].append(data[\"results\"][0][\"geometry\"][\"location\"][\"lng\"])    \n",
    "        sa2_coordinates[\"SA2 Name\"].append(address)\n",
    "    except:\n",
    "        print(f'{address} has error.')\n",
    "\n",
    "\n"
   ]
  },
  {
   "cell_type": "code",
   "execution_count": 26,
   "metadata": {},
   "outputs": [],
   "source": [
    "coordinates_df = pd.DataFrame(sa2_coordinates)"
   ]
  },
  {
   "cell_type": "code",
   "execution_count": 27,
   "metadata": {},
   "outputs": [],
   "source": [
    "add_df = pd.read_csv(\"resources/affordability.csv\")"
   ]
  },
  {
   "cell_type": "code",
   "execution_count": 50,
   "metadata": {},
   "outputs": [
    {
     "data": {
      "text/plain": [
       "SA2 Name                         Yokine - Coolbinia - Menora\n",
       "lat                                                  48.9311\n",
       "lng                                                  116.168\n",
       "Unnamed: 0                                               147\n",
       "median_income of suburb                              3754.78\n",
       "median_rent                                          774.324\n",
       "median_mortgage_repayment                             902.74\n",
       "unemployment_rate                                   0.142461\n",
       "unoccupied_rate                                     0.314557\n",
       "yearly building_approval                                 877\n",
       "Greater Perth median income                          2333.17\n",
       "qualyfing_income(mortgage)                           3009.13\n",
       "affordability_index(mortgage)                        200.929\n",
       "qualyfing_income(rent)                               2581.08\n",
       "affordability_index(rent)                            251.668\n",
       "dtype: object"
      ]
     },
     "execution_count": 50,
     "metadata": {},
     "output_type": "execute_result"
    }
   ],
   "source": [
    "gmaps_df = pd.merge(coordinates_df, add_df, on=\"SA2 Name\", how=\"inner\")\n",
    "gmaps_df.max()"
   ]
  },
  {
   "cell_type": "code",
   "execution_count": 32,
   "metadata": {},
   "outputs": [],
   "source": [
    "\n",
    "locations = gmaps_df[[\"lat\", \"lng\"]].astype(float)\n",
    "median_rent = gmaps_df[\"median_rent\"]"
   ]
  },
  {
   "cell_type": "code",
   "execution_count": 51,
   "metadata": {},
   "outputs": [
    {
     "data": {
      "application/vnd.jupyter.widget-view+json": {
       "model_id": "bca604177e4b472ab2e4c74d376596ac",
       "version_major": 2,
       "version_minor": 0
      },
      "text/plain": [
       "Figure(layout=FigureLayout(height='420px'))"
      ]
     },
     "metadata": {},
     "output_type": "display_data"
    }
   ],
   "source": [
    "# Add marker layer ontop of heat map\n",
    "\n",
    "heat_layer = gmaps.heatmap_layer(locations, weights=median_rent, \n",
    "                                 dissipating=False, max_intensity=800,\n",
    "                                 point_radius = 0.02)\n",
    "# Display figure\n",
    "fig = gmaps.figure(center=(-31.9,116),zoom_level=11)\n",
    "\n",
    "fig.add_layer(heat_layer)\n",
    "fig"
   ]
  },
  {
   "cell_type": "code",
   "execution_count": null,
   "metadata": {},
   "outputs": [],
   "source": []
  }
 ],
 "metadata": {
  "kernelspec": {
   "display_name": "Python 3",
   "language": "python",
   "name": "python3"
  },
  "language_info": {
   "codemirror_mode": {
    "name": "ipython",
    "version": 3
   },
   "file_extension": ".py",
   "mimetype": "text/x-python",
   "name": "python",
   "nbconvert_exporter": "python",
   "pygments_lexer": "ipython3",
   "version": "3.7.6"
  },
  "latex_envs": {
   "LaTeX_envs_menu_present": true,
   "autoclose": false,
   "autocomplete": true,
   "bibliofile": "biblio.bib",
   "cite_by": "apalike",
   "current_citInitial": 1,
   "eqLabelWithNumbers": true,
   "eqNumInitial": 1,
   "hotkeys": {
    "equation": "Ctrl-E",
    "itemize": "Ctrl-I"
   },
   "labels_anchors": false,
   "latex_user_defs": false,
   "report_style_numbering": false,
   "user_envs_cfg": false
  }
 },
 "nbformat": 4,
 "nbformat_minor": 4
}
