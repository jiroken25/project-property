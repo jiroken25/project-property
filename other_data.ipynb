{
 "cells": [
  {
   "cell_type": "code",
   "execution_count": 1,
   "metadata": {},
   "outputs": [],
   "source": [
    "import requests\n",
    "import pandas as pd\n",
    "import matplotlib.pyplot as plt\n",
    "import numpy as np\n",
    "import json\n",
    "\n"
   ]
  },
  {
   "cell_type": "code",
   "execution_count": 11,
   "metadata": {},
   "outputs": [
    {
     "data": {
      "text/html": [
       "<div>\n",
       "<style scoped>\n",
       "    .dataframe tbody tr th:only-of-type {\n",
       "        vertical-align: middle;\n",
       "    }\n",
       "\n",
       "    .dataframe tbody tr th {\n",
       "        vertical-align: top;\n",
       "    }\n",
       "\n",
       "    .dataframe thead th {\n",
       "        text-align: right;\n",
       "    }\n",
       "</style>\n",
       "<table border=\"1\" class=\"dataframe\">\n",
       "  <thead>\n",
       "    <tr style=\"text-align: right;\">\n",
       "      <th></th>\n",
       "      <th>SA2_MAINCODE_2016</th>\n",
       "      <th>SA2_5DIGITCODE_2016</th>\n",
       "      <th>SA2_NAME_2016</th>\n",
       "      <th>SA3_CODE_2016</th>\n",
       "      <th>SA3_NAME_2016</th>\n",
       "      <th>SA4_CODE_2016</th>\n",
       "      <th>SA4_NAME_2016</th>\n",
       "      <th>GCCSA_CODE_2016</th>\n",
       "      <th>GCCSA_NAME_2016</th>\n",
       "      <th>STATE_CODE_2016</th>\n",
       "      <th>STATE_NAME_2016</th>\n",
       "      <th>AREA_ALBERS_SQKM</th>\n",
       "    </tr>\n",
       "  </thead>\n",
       "  <tbody>\n",
       "    <tr>\n",
       "      <th>1768</th>\n",
       "      <td>502011021</td>\n",
       "      <td>51021</td>\n",
       "      <td>Dawesville - Bouvard</td>\n",
       "      <td>50201</td>\n",
       "      <td>Mandurah</td>\n",
       "      <td>502</td>\n",
       "      <td>Mandurah</td>\n",
       "      <td>5GPER</td>\n",
       "      <td>Greater Perth</td>\n",
       "      <td>5</td>\n",
       "      <td>Western Australia</td>\n",
       "      <td>97.9248</td>\n",
       "    </tr>\n",
       "    <tr>\n",
       "      <th>1769</th>\n",
       "      <td>502011022</td>\n",
       "      <td>51022</td>\n",
       "      <td>Falcon - Wannanup</td>\n",
       "      <td>50201</td>\n",
       "      <td>Mandurah</td>\n",
       "      <td>502</td>\n",
       "      <td>Mandurah</td>\n",
       "      <td>5GPER</td>\n",
       "      <td>Greater Perth</td>\n",
       "      <td>5</td>\n",
       "      <td>Western Australia</td>\n",
       "      <td>9.5893</td>\n",
       "    </tr>\n",
       "    <tr>\n",
       "      <th>1770</th>\n",
       "      <td>502011023</td>\n",
       "      <td>51023</td>\n",
       "      <td>Greenfields</td>\n",
       "      <td>50201</td>\n",
       "      <td>Mandurah</td>\n",
       "      <td>502</td>\n",
       "      <td>Mandurah</td>\n",
       "      <td>5GPER</td>\n",
       "      <td>Greater Perth</td>\n",
       "      <td>5</td>\n",
       "      <td>Western Australia</td>\n",
       "      <td>9.9609</td>\n",
       "    </tr>\n",
       "    <tr>\n",
       "      <th>1771</th>\n",
       "      <td>502011024</td>\n",
       "      <td>51024</td>\n",
       "      <td>Halls Head - Erskine</td>\n",
       "      <td>50201</td>\n",
       "      <td>Mandurah</td>\n",
       "      <td>502</td>\n",
       "      <td>Mandurah</td>\n",
       "      <td>5GPER</td>\n",
       "      <td>Greater Perth</td>\n",
       "      <td>5</td>\n",
       "      <td>Western Australia</td>\n",
       "      <td>14.2469</td>\n",
       "    </tr>\n",
       "    <tr>\n",
       "      <th>1772</th>\n",
       "      <td>502011025</td>\n",
       "      <td>51025</td>\n",
       "      <td>Mandurah</td>\n",
       "      <td>50201</td>\n",
       "      <td>Mandurah</td>\n",
       "      <td>502</td>\n",
       "      <td>Mandurah</td>\n",
       "      <td>5GPER</td>\n",
       "      <td>Greater Perth</td>\n",
       "      <td>5</td>\n",
       "      <td>Western Australia</td>\n",
       "      <td>8.3954</td>\n",
       "    </tr>\n",
       "  </tbody>\n",
       "</table>\n",
       "</div>"
      ],
      "text/plain": [
       "      SA2_MAINCODE_2016  SA2_5DIGITCODE_2016         SA2_NAME_2016  \\\n",
       "1768          502011021                51021  Dawesville - Bouvard   \n",
       "1769          502011022                51022     Falcon - Wannanup   \n",
       "1770          502011023                51023           Greenfields   \n",
       "1771          502011024                51024  Halls Head - Erskine   \n",
       "1772          502011025                51025              Mandurah   \n",
       "\n",
       "      SA3_CODE_2016 SA3_NAME_2016  SA4_CODE_2016 SA4_NAME_2016  \\\n",
       "1768          50201      Mandurah            502      Mandurah   \n",
       "1769          50201      Mandurah            502      Mandurah   \n",
       "1770          50201      Mandurah            502      Mandurah   \n",
       "1771          50201      Mandurah            502      Mandurah   \n",
       "1772          50201      Mandurah            502      Mandurah   \n",
       "\n",
       "     GCCSA_CODE_2016 GCCSA_NAME_2016  STATE_CODE_2016    STATE_NAME_2016  \\\n",
       "1768           5GPER   Greater Perth                5  Western Australia   \n",
       "1769           5GPER   Greater Perth                5  Western Australia   \n",
       "1770           5GPER   Greater Perth                5  Western Australia   \n",
       "1771           5GPER   Greater Perth                5  Western Australia   \n",
       "1772           5GPER   Greater Perth                5  Western Australia   \n",
       "\n",
       "      AREA_ALBERS_SQKM  \n",
       "1768           97.9248  \n",
       "1769            9.5893  \n",
       "1770            9.9609  \n",
       "1771           14.2469  \n",
       "1772            8.3954  "
      ]
     },
     "execution_count": 11,
     "metadata": {},
     "output_type": "execute_result"
    }
   ],
   "source": [
    "# Get Statistic Area level 2 information from csv file\n",
    "sa2_df = pd.read_csv(\"resources/SA2_2016_AUST.csv\")\n",
    "\n",
    "# Filter the information to show Greater Perth Only\n",
    "sa2_perth_df = sa2_df[sa2_df[\"GCCSA_NAME_2016\"] == \"Greater Perth\"]\n",
    "\n",
    "sa2_perth_df.head()\n"
   ]
  },
  {
   "cell_type": "code",
   "execution_count": 12,
   "metadata": {},
   "outputs": [
    {
     "name": "stdout",
     "output_type": "stream",
     "text": [
      "Melaleuca - Lexia has no available data\n",
      "Walyunga National Park has no available data\n",
      "Herdsman has no available data\n",
      "Perth Airport has no available data\n",
      "Canning Vale Commercial has no available data\n",
      "Bibra Lake has no available data\n",
      "Rockingham Lakes has no available data\n"
     ]
    }
   ],
   "source": [
    "# Store information into the dictionaly\n",
    "unemployment_dict = {\"SA2 Name\":[],\"unemployment_rate\":[]}\n",
    "\n",
    "#   Data:  One family household with only family members present\n",
    "for code in sa2_perth_df[\"SA2_MAINCODE_2016\"]:\n",
    "    try:\n",
    "        abs_url = f\"http://stat.data.abs.gov.au/sdmx-json/data/ABS_C16_G43_SA/TOT.3.EMP+UEMP.5.SA2.{code}/all?detail=Full&dimensionAtObservation=AllDimensions\"\n",
    "        response = requests.get(abs_url)\n",
    "        data = response.json()\n",
    "        unemployment_dict[\"unemployment_rate\"].append(data[\"dataSets\"][0][\"observations\"][\"0:0:1:0:0:0:0\"][0]\n",
    "                                                  /(data[\"dataSets\"][0][\"observations\"][\"0:0:0:0:0:0:0\"][0]+data[\"dataSets\"][0][\"observations\"][\"0:0:1:0:0:0:0\"][0]))\n",
    "        unemployment_dict[\"SA2 Name\"].append(sa2_perth_df.loc[sa2_perth_df[\"SA2_MAINCODE_2016\"]==code,\"SA2_NAME_2016\"].values[0])\n",
    "    except:\n",
    "        print(f'{sa2_perth_df.loc[sa2_perth_df[\"SA2_MAINCODE_2016\"]==code,\"SA2_NAME_2016\"].values[0]} has no available data')\n",
    "\n",
    "\n",
    "\n"
   ]
  },
  {
   "cell_type": "code",
   "execution_count": 18,
   "metadata": {},
   "outputs": [],
   "source": [
    "unemploy_df = pd.DataFrame(unemployment_dict)"
   ]
  },
  {
   "cell_type": "code",
   "execution_count": 19,
   "metadata": {},
   "outputs": [],
   "source": [
    "# Rename the columns to see the data more easily\n",
    "unemploy_df.to_csv(\"resources/unemployment_rate.csv\")"
   ]
  },
  {
   "cell_type": "markdown",
   "metadata": {},
   "source": [
    "Unoccupied Dwelling rate"
   ]
  },
  {
   "cell_type": "code",
   "execution_count": 20,
   "metadata": {},
   "outputs": [
    {
     "name": "stdout",
     "output_type": "stream",
     "text": [
      "Avon Valley National Park has no available data\n",
      "Melaleuca - Lexia has no available data\n",
      "Walyunga National Park has no available data\n",
      "Herdsman has no available data\n",
      "Osborne Park Industrial has no available data\n",
      "Ashendon - Lesley has no available data\n",
      "Perth Airport has no available data\n",
      "Canning Vale Commercial has no available data\n",
      "Bibra Industrial has no available data\n",
      "Bibra Lake has no available data\n"
     ]
    }
   ],
   "source": [
    "unoccupied_dict = {\"SA2 Name\":[],\"unoccupied_rate\":[]}\n",
    "\n",
    "#   Data:  One family household with only family members present\n",
    "for code in sa2_perth_df[\"SA2_MAINCODE_2016\"]:\n",
    "    try:\n",
    "        abs_url = f\"http://stat.data.abs.gov.au/sdmx-json/data/ABS_C16_T24_SA/1+2.TOT.5.SA2.{code}/all?detail=Full&dimensionAtObservation=AllDimensions\"\n",
    "        response = requests.get(abs_url)\n",
    "        data = response.json()\n",
    "        unoccupied_dict[\"unoccupied_rate\"].append(data[\"dataSets\"][0][\"observations\"][\"1:0:0:0:0:0\"][0]\n",
    "                                                  /(data[\"dataSets\"][0][\"observations\"][\"0:0:0:0:0:0\"][0]+data[\"dataSets\"][0][\"observations\"][\"1:0:0:0:0:0\"][0]))\n",
    "        unoccupied_dict[\"SA2 Name\"].append(sa2_perth_df.loc[sa2_perth_df[\"SA2_MAINCODE_2016\"]==code,\"SA2_NAME_2016\"].values[0])\n",
    "    except:\n",
    "        print(f'{sa2_perth_df.loc[sa2_perth_df[\"SA2_MAINCODE_2016\"]==code,\"SA2_NAME_2016\"].values[0]} has no available data')\n",
    "\n",
    "\n"
   ]
  },
  {
   "cell_type": "code",
   "execution_count": 21,
   "metadata": {},
   "outputs": [],
   "source": [
    "unoccupied_df = pd.DataFrame(unoccupied_dict)"
   ]
  },
  {
   "cell_type": "code",
   "execution_count": 22,
   "metadata": {},
   "outputs": [],
   "source": [
    "unoccupied_df.to_csv(\"resources/unoccupied_rate.csv\")"
   ]
  },
  {
   "cell_type": "markdown",
   "metadata": {},
   "source": [
    "Building Apporval"
   ]
  },
  {
   "cell_type": "code",
   "execution_count": 29,
   "metadata": {},
   "outputs": [],
   "source": [
    "# Store information into the dictionaly\n",
    "building_dict = {\"SA2 Name\":[],\"building_approval\":[]}\n",
    "\n",
    "#   Data:  One family household with only family members present\n",
    "for code in sa2_perth_df[\"SA2_MAINCODE_2016\"]:\n",
    "    abs_url = f\"http://stat.data.abs.gov.au/sdmx-json/data/ABS_BA_SA2_ASGS2016/1.9.1.100.SA2.{code}.M/all?detail=Full&dimensionAtObservation=AllDimensions&startPeriod=2016\"\n",
    "    response = requests.get(abs_url)\n",
    "    data = response.json()\n",
    "    list_year = [data[\"dataSets\"][0][\"observations\"][f\"0:0:0:0:0:0:0:{str(x)}\"][0] for x in range(0,13)]\n",
    "    building_dict[\"building_approval\"].append(sum(list_year))\n",
    "    building_dict[\"SA2 Name\"].append(sa2_perth_df.loc[sa2_perth_df[\"SA2_MAINCODE_2016\"]==code,\"SA2_NAME_2016\"].values[0])\n",
    "\n"
   ]
  },
  {
   "cell_type": "code",
   "execution_count": 30,
   "metadata": {},
   "outputs": [],
   "source": [
    "building_df = pd.DataFrame(building_dict)"
   ]
  },
  {
   "cell_type": "code",
   "execution_count": 32,
   "metadata": {},
   "outputs": [],
   "source": [
    "building_df.to_csv(\"resources/building_approval.csv\")"
   ]
  },
  {
   "cell_type": "code",
   "execution_count": null,
   "metadata": {},
   "outputs": [],
   "source": []
  }
 ],
 "metadata": {
  "kernelspec": {
   "display_name": "Python 3",
   "language": "python",
   "name": "python3"
  },
  "language_info": {
   "codemirror_mode": {
    "name": "ipython",
    "version": 3
   },
   "file_extension": ".py",
   "mimetype": "text/x-python",
   "name": "python",
   "nbconvert_exporter": "python",
   "pygments_lexer": "ipython3",
   "version": "3.7.6"
  }
 },
 "nbformat": 4,
 "nbformat_minor": 4
}
