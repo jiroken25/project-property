{
 "cells": [
  {
   "cell_type": "code",
   "execution_count": 45,
   "metadata": {},
   "outputs": [],
   "source": [
    "import pandas as pd\n",
    "%matplotlib widget\n",
    "import matplotlib.pyplot as plt\n",
    "\n",
    "import scipy.stats as st\n",
    "import numpy as np"
   ]
  },
  {
   "cell_type": "code",
   "execution_count": 35,
   "metadata": {},
   "outputs": [],
   "source": [
    "income_df = pd.read_csv(\"resources/income_median.csv\")\n",
    "rent_df = pd.read_csv(\"resources/rent_median.csv\")\n",
    "mortgage_df = pd.read_csv(\"resources/mortgage_median.csv\")\n",
    "perth_median_income_df= pd.read_csv(\"resources/greater_perth_income.csv\")"
   ]
  },
  {
   "cell_type": "code",
   "execution_count": null,
   "metadata": {},
   "outputs": [],
   "source": [
    "income_df"
   ]
  },
  {
   "cell_type": "code",
   "execution_count": 36,
   "metadata": {},
   "outputs": [],
   "source": [
    "perth_median_icnome = perth_median_income_df[\"Median\"].values[0]"
   ]
  },
  {
   "cell_type": "code",
   "execution_count": 37,
   "metadata": {},
   "outputs": [],
   "source": [
    "combine_df = pd.merge(income_df,rent_df,on=\"SA2 Name\", how=\"inner\")\n",
    "combine_all_df = pd.merge(combine_df, mortgage_df, on=\"SA2 Name\", how=\"inner\") "
   ]
  },
  {
   "cell_type": "code",
   "execution_count": 38,
   "metadata": {},
   "outputs": [],
   "source": [
    "suburb_df = combine_all_df[[\"SA2 Name\",\"Median_x\",\"Median_y\",\"weekly repayment(median)\"]]"
   ]
  },
  {
   "cell_type": "code",
   "execution_count": 39,
   "metadata": {},
   "outputs": [],
   "source": [
    "suburb_df.columns =[[\"SA2 Name\",\"median_income of suburb\",\"median_rent\",\"median_mortgage_repayment\"]]"
   ]
  },
  {
   "cell_type": "code",
   "execution_count": 40,
   "metadata": {},
   "outputs": [
    {
     "name": "stderr",
     "output_type": "stream",
     "text": [
      "C:\\Users\\khiro\\anaconda3\\lib\\site-packages\\ipykernel_launcher.py:1: SettingWithCopyWarning: \n",
      "A value is trying to be set on a copy of a slice from a DataFrame.\n",
      "Try using .loc[row_indexer,col_indexer] = value instead\n",
      "\n",
      "See the caveats in the documentation: https://pandas.pydata.org/pandas-docs/stable/user_guide/indexing.html#returning-a-view-versus-a-copy\n",
      "  \"\"\"Entry point for launching an IPython kernel.\n"
     ]
    },
    {
     "data": {
      "text/html": [
       "<div>\n",
       "<style scoped>\n",
       "    .dataframe tbody tr th:only-of-type {\n",
       "        vertical-align: middle;\n",
       "    }\n",
       "\n",
       "    .dataframe tbody tr th {\n",
       "        vertical-align: top;\n",
       "    }\n",
       "\n",
       "    .dataframe thead tr th {\n",
       "        text-align: left;\n",
       "    }\n",
       "</style>\n",
       "<table border=\"1\" class=\"dataframe\">\n",
       "  <thead>\n",
       "    <tr>\n",
       "      <th></th>\n",
       "      <th>SA2 Name</th>\n",
       "      <th>median_income of suburb</th>\n",
       "      <th>median_rent</th>\n",
       "      <th>median_mortgage_repayment</th>\n",
       "      <th>Greater Perth median income</th>\n",
       "    </tr>\n",
       "  </thead>\n",
       "  <tbody>\n",
       "    <tr>\n",
       "      <th>0</th>\n",
       "      <td>Dawesville - Bouvard</td>\n",
       "      <td>1584.677419</td>\n",
       "      <td>358.955224</td>\n",
       "      <td>467.842236</td>\n",
       "      <td>2333.167481</td>\n",
       "    </tr>\n",
       "    <tr>\n",
       "      <th>1</th>\n",
       "      <td>Falcon - Wannanup</td>\n",
       "      <td>1486.918605</td>\n",
       "      <td>342.460317</td>\n",
       "      <td>443.090411</td>\n",
       "      <td>2333.167481</td>\n",
       "    </tr>\n",
       "    <tr>\n",
       "      <th>2</th>\n",
       "      <td>Greenfields</td>\n",
       "      <td>1192.934783</td>\n",
       "      <td>306.119792</td>\n",
       "      <td>359.553526</td>\n",
       "      <td>2333.167481</td>\n",
       "    </tr>\n",
       "    <tr>\n",
       "      <th>3</th>\n",
       "      <td>Halls Head - Erskine</td>\n",
       "      <td>1627.840909</td>\n",
       "      <td>360.374494</td>\n",
       "      <td>454.794521</td>\n",
       "      <td>2333.167481</td>\n",
       "    </tr>\n",
       "    <tr>\n",
       "      <th>4</th>\n",
       "      <td>Mandurah</td>\n",
       "      <td>1189.174107</td>\n",
       "      <td>290.353881</td>\n",
       "      <td>355.846222</td>\n",
       "      <td>2333.167481</td>\n",
       "    </tr>\n",
       "    <tr>\n",
       "      <th>...</th>\n",
       "      <td>...</td>\n",
       "      <td>...</td>\n",
       "      <td>...</td>\n",
       "      <td>...</td>\n",
       "      <td>...</td>\n",
       "    </tr>\n",
       "    <tr>\n",
       "      <th>143</th>\n",
       "      <td>Rockingham</td>\n",
       "      <td>1469.791667</td>\n",
       "      <td>305.313589</td>\n",
       "      <td>394.715213</td>\n",
       "      <td>2333.167481</td>\n",
       "    </tr>\n",
       "    <tr>\n",
       "      <th>144</th>\n",
       "      <td>Safety Bay - Shoalwater</td>\n",
       "      <td>1669.254658</td>\n",
       "      <td>314.106145</td>\n",
       "      <td>425.851774</td>\n",
       "      <td>2333.167481</td>\n",
       "    </tr>\n",
       "    <tr>\n",
       "      <th>145</th>\n",
       "      <td>Singleton - Golden Bay - Secret Harbour</td>\n",
       "      <td>2219.629630</td>\n",
       "      <td>391.158537</td>\n",
       "      <td>491.695689</td>\n",
       "      <td>2333.167481</td>\n",
       "    </tr>\n",
       "    <tr>\n",
       "      <th>146</th>\n",
       "      <td>Waikiki</td>\n",
       "      <td>1776.376147</td>\n",
       "      <td>350.290698</td>\n",
       "      <td>413.245980</td>\n",
       "      <td>2333.167481</td>\n",
       "    </tr>\n",
       "    <tr>\n",
       "      <th>147</th>\n",
       "      <td>Warnbro</td>\n",
       "      <td>1615.327381</td>\n",
       "      <td>339.320388</td>\n",
       "      <td>394.160058</td>\n",
       "      <td>2333.167481</td>\n",
       "    </tr>\n",
       "  </tbody>\n",
       "</table>\n",
       "<p>148 rows × 5 columns</p>\n",
       "</div>"
      ],
      "text/plain": [
       "                                    SA2 Name median_income of suburb  \\\n",
       "0                       Dawesville - Bouvard             1584.677419   \n",
       "1                          Falcon - Wannanup             1486.918605   \n",
       "2                                Greenfields             1192.934783   \n",
       "3                       Halls Head - Erskine             1627.840909   \n",
       "4                                   Mandurah             1189.174107   \n",
       "..                                       ...                     ...   \n",
       "143                               Rockingham             1469.791667   \n",
       "144                  Safety Bay - Shoalwater             1669.254658   \n",
       "145  Singleton - Golden Bay - Secret Harbour             2219.629630   \n",
       "146                                  Waikiki             1776.376147   \n",
       "147                                  Warnbro             1615.327381   \n",
       "\n",
       "    median_rent median_mortgage_repayment Greater Perth median income  \n",
       "0    358.955224                467.842236                 2333.167481  \n",
       "1    342.460317                443.090411                 2333.167481  \n",
       "2    306.119792                359.553526                 2333.167481  \n",
       "3    360.374494                454.794521                 2333.167481  \n",
       "4    290.353881                355.846222                 2333.167481  \n",
       "..          ...                       ...                         ...  \n",
       "143  305.313589                394.715213                 2333.167481  \n",
       "144  314.106145                425.851774                 2333.167481  \n",
       "145  391.158537                491.695689                 2333.167481  \n",
       "146  350.290698                413.245980                 2333.167481  \n",
       "147  339.320388                394.160058                 2333.167481  \n",
       "\n",
       "[148 rows x 5 columns]"
      ]
     },
     "execution_count": 40,
     "metadata": {},
     "output_type": "execute_result"
    }
   ],
   "source": [
    "suburb_df[\"Greater Perth median income\"] = perth_median_icnome\n",
    "suburb_df"
   ]
  },
  {
   "cell_type": "markdown",
   "metadata": {},
   "source": [
    "Affordable Housing Index (HIA Housing Affordability Index Methodology)\n",
    "\n",
    "https://hia.com.au/-/media/HIA-Website/Files/IndustryBusiness/Economic/publications/affordability-index-methodology.ashx\n",
    "\n",
    "Usign Mortgage repayment:\n",
    "Affordability Index(Mortgage repayments) = (Weekly Earnings x 100) / Qualifying Income\n",
    "\n",
    "Qualifying Income = Mortgage Repayments / 30%\n",
    "\n",
    "* This time usign median insted of average as average has more impact from outlier."
   ]
  },
  {
   "cell_type": "code",
   "execution_count": 41,
   "metadata": {},
   "outputs": [
    {
     "name": "stderr",
     "output_type": "stream",
     "text": [
      "C:\\Users\\khiro\\anaconda3\\lib\\site-packages\\ipykernel_launcher.py:1: SettingWithCopyWarning: \n",
      "A value is trying to be set on a copy of a slice from a DataFrame.\n",
      "Try using .loc[row_indexer,col_indexer] = value instead\n",
      "\n",
      "See the caveats in the documentation: https://pandas.pydata.org/pandas-docs/stable/user_guide/indexing.html#returning-a-view-versus-a-copy\n",
      "  \"\"\"Entry point for launching an IPython kernel.\n",
      "C:\\Users\\khiro\\anaconda3\\lib\\site-packages\\ipykernel_launcher.py:2: SettingWithCopyWarning: \n",
      "A value is trying to be set on a copy of a slice from a DataFrame.\n",
      "Try using .loc[row_indexer,col_indexer] = value instead\n",
      "\n",
      "See the caveats in the documentation: https://pandas.pydata.org/pandas-docs/stable/user_guide/indexing.html#returning-a-view-versus-a-copy\n",
      "  \n"
     ]
    }
   ],
   "source": [
    "suburb_df[\"qualyfing_income(mortgage)\"] = suburb_df.iloc[:,3] / 0.3\n",
    "suburb_df[\"affordability_index(mortgage)\"] = suburb_df.iloc[:,4] * 100 /  suburb_df.iloc[:,5]"
   ]
  },
  {
   "cell_type": "code",
   "execution_count": 42,
   "metadata": {},
   "outputs": [],
   "source": [
    "suburb_df[\"qualyfing_income(rent)\"] = suburb_df.iloc[:,2] / 0.3\n",
    "suburb_df[\"affordability_index(rent)\"] = suburb_df.iloc[:,4] * 100 /  suburb_df.iloc[:,7]"
   ]
  },
  {
   "cell_type": "code",
   "execution_count": 43,
   "metadata": {},
   "outputs": [],
   "source": [
    "suburb_df.to_csv(\"resources/affordability.csv\")"
   ]
  },
  {
   "cell_type": "markdown",
   "metadata": {},
   "source": [
    "# Rent vs Mortgage repayment"
   ]
  },
  {
   "cell_type": "code",
   "execution_count": 49,
   "metadata": {},
   "outputs": [
    {
     "data": {
      "text/plain": [
       "0      358.955224\n",
       "1      342.460317\n",
       "2      306.119792\n",
       "3      360.374494\n",
       "4      290.353881\n",
       "          ...    \n",
       "143    305.313589\n",
       "144    314.106145\n",
       "145    391.158537\n",
       "146    350.290698\n",
       "147    339.320388\n",
       "Name: (median_rent,), Length: 148, dtype: float64"
      ]
     },
     "execution_count": 49,
     "metadata": {},
     "output_type": "execute_result"
    }
   ],
   "source": [
    "def regression(x,y):\n",
    "    (slope, intercept,r_value,p_value,std_err) = st.linregress(x,y)\n",
    "    return (slope, intercept,r_value,p_value,std_err)\n",
    "\n",
    "suburb_df.iloc[:,2]"
   ]
  },
  {
   "cell_type": "code",
   "execution_count": 51,
   "metadata": {},
   "outputs": [
    {
     "data": {
      "application/vnd.jupyter.widget-view+json": {
       "model_id": "701a84b1655b4348aaea28149dc29ab0",
       "version_major": 2,
       "version_minor": 0
      },
      "text/plain": [
       "Canvas(toolbar=Toolbar(toolitems=[('Home', 'Reset original view', 'home', 'home'), ('Back', 'Back to previous …"
      ]
     },
     "metadata": {},
     "output_type": "display_data"
    }
   ],
   "source": [
    "x =suburb_df.iloc[:,2]\n",
    "y =suburb_df.iloc[:,3]\n",
    "\n",
    "slope = regression(x,y)[0]\n",
    "intercept = regression(x,y)[1]\n",
    "r2 = regression(x,y)[2] **2\n",
    "\n",
    "fig, ax = plt.subplots()\n",
    "ax.scatter(x=x, y=y,marker=\"o\",edgecolors=\"black\")    \n",
    "ax.plot(x,slope*x +intercept,color=\"red\")\n",
    "ax.text(400,slope*400+intercept-100,'y='+str(round(slope,4)) + 'x +' +str(round(intercept,4)) + \"     R2 =\" +str(round(r2,4)),color=\"red\")\n",
    "ax.grid()\n",
    "ax.set_xlabel(\"Rent(AUD/weekly)\")\n",
    "ax.set_ylabel(\"Mortgage Repayment(AUD/weekly\")\n",
    "ax.set_title(\"Rent vs Mortgage repayment in Greater Perth\")\n",
    "plt.tight_layout()"
   ]
  },
  {
   "cell_type": "code",
   "execution_count": null,
   "metadata": {},
   "outputs": [],
   "source": []
  }
 ],
 "metadata": {
  "kernelspec": {
   "display_name": "Python 3",
   "language": "python",
   "name": "python3"
  },
  "language_info": {
   "codemirror_mode": {
    "name": "ipython",
    "version": 3
   },
   "file_extension": ".py",
   "mimetype": "text/x-python",
   "name": "python",
   "nbconvert_exporter": "python",
   "pygments_lexer": "ipython3",
   "version": "3.7.6"
  }
 },
 "nbformat": 4,
 "nbformat_minor": 4
}
