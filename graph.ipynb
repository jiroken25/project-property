{
 "cells": [
  {
   "cell_type": "code",
   "execution_count": 14,
   "metadata": {},
   "outputs": [],
   "source": [
    "import pandas as pd"
   ]
  },
  {
   "cell_type": "code",
   "execution_count": 15,
   "metadata": {},
   "outputs": [],
   "source": [
    "income_df = pd.read_csv(\"resources/income_median.csv\")\n",
    "rent_df = pd.read_csv(\"resources/rent_median.csv\")\n",
    "mortgage_df = pd.read_csv(\"resources/mortgage_median.csv\")"
   ]
  },
  {
   "cell_type": "code",
   "execution_count": 16,
   "metadata": {},
   "outputs": [
    {
     "data": {
      "text/html": [
       "<div>\n",
       "<style scoped>\n",
       "    .dataframe tbody tr th:only-of-type {\n",
       "        vertical-align: middle;\n",
       "    }\n",
       "\n",
       "    .dataframe tbody tr th {\n",
       "        vertical-align: top;\n",
       "    }\n",
       "\n",
       "    .dataframe thead th {\n",
       "        text-align: right;\n",
       "    }\n",
       "</style>\n",
       "<table border=\"1\" class=\"dataframe\">\n",
       "  <thead>\n",
       "    <tr style=\"text-align: right;\">\n",
       "      <th></th>\n",
       "      <th>Unnamed: 0</th>\n",
       "      <th>SA2 Name</th>\n",
       "      <th>Median</th>\n",
       "    </tr>\n",
       "  </thead>\n",
       "  <tbody>\n",
       "    <tr>\n",
       "      <th>0</th>\n",
       "      <td>0</td>\n",
       "      <td>Dawesville - Bouvard</td>\n",
       "      <td>1584.677419</td>\n",
       "    </tr>\n",
       "    <tr>\n",
       "      <th>1</th>\n",
       "      <td>1</td>\n",
       "      <td>Falcon - Wannanup</td>\n",
       "      <td>1486.918605</td>\n",
       "    </tr>\n",
       "    <tr>\n",
       "      <th>2</th>\n",
       "      <td>2</td>\n",
       "      <td>Greenfields</td>\n",
       "      <td>1192.934783</td>\n",
       "    </tr>\n",
       "    <tr>\n",
       "      <th>3</th>\n",
       "      <td>3</td>\n",
       "      <td>Halls Head - Erskine</td>\n",
       "      <td>1627.840909</td>\n",
       "    </tr>\n",
       "    <tr>\n",
       "      <th>4</th>\n",
       "      <td>4</td>\n",
       "      <td>Mandurah</td>\n",
       "      <td>1189.174107</td>\n",
       "    </tr>\n",
       "    <tr>\n",
       "      <th>...</th>\n",
       "      <td>...</td>\n",
       "      <td>...</td>\n",
       "      <td>...</td>\n",
       "    </tr>\n",
       "    <tr>\n",
       "      <th>147</th>\n",
       "      <td>147</td>\n",
       "      <td>Rockingham</td>\n",
       "      <td>1469.791667</td>\n",
       "    </tr>\n",
       "    <tr>\n",
       "      <th>148</th>\n",
       "      <td>148</td>\n",
       "      <td>Safety Bay - Shoalwater</td>\n",
       "      <td>1669.254658</td>\n",
       "    </tr>\n",
       "    <tr>\n",
       "      <th>149</th>\n",
       "      <td>149</td>\n",
       "      <td>Singleton - Golden Bay - Secret Harbour</td>\n",
       "      <td>2219.629630</td>\n",
       "    </tr>\n",
       "    <tr>\n",
       "      <th>150</th>\n",
       "      <td>150</td>\n",
       "      <td>Waikiki</td>\n",
       "      <td>1776.376147</td>\n",
       "    </tr>\n",
       "    <tr>\n",
       "      <th>151</th>\n",
       "      <td>151</td>\n",
       "      <td>Warnbro</td>\n",
       "      <td>1615.327381</td>\n",
       "    </tr>\n",
       "  </tbody>\n",
       "</table>\n",
       "<p>152 rows × 3 columns</p>\n",
       "</div>"
      ],
      "text/plain": [
       "     Unnamed: 0                                 SA2 Name       Median\n",
       "0             0                     Dawesville - Bouvard  1584.677419\n",
       "1             1                        Falcon - Wannanup  1486.918605\n",
       "2             2                              Greenfields  1192.934783\n",
       "3             3                     Halls Head - Erskine  1627.840909\n",
       "4             4                                 Mandurah  1189.174107\n",
       "..          ...                                      ...          ...\n",
       "147         147                               Rockingham  1469.791667\n",
       "148         148                  Safety Bay - Shoalwater  1669.254658\n",
       "149         149  Singleton - Golden Bay - Secret Harbour  2219.629630\n",
       "150         150                                  Waikiki  1776.376147\n",
       "151         151                                  Warnbro  1615.327381\n",
       "\n",
       "[152 rows x 3 columns]"
      ]
     },
     "execution_count": 16,
     "metadata": {},
     "output_type": "execute_result"
    }
   ],
   "source": [
    "income_df"
   ]
  },
  {
   "cell_type": "code",
   "execution_count": 17,
   "metadata": {},
   "outputs": [],
   "source": [
    "combine_df = pd.merge(income_df,rent_df,on=\"SA2 Name\", how=\"inner\")\n",
    "combine_all_df = pd.merge(combine_df, mortgage_df, on=\"SA2 Name\", how=\"inner\") "
   ]
  },
  {
   "cell_type": "code",
   "execution_count": 18,
   "metadata": {},
   "outputs": [],
   "source": [
    "suburb_df = combine_all_df[[\"SA2 Name\",\"Median_x\",\"Median_y\",\"weekly repayment(median)\"]]"
   ]
  },
  {
   "cell_type": "code",
   "execution_count": 19,
   "metadata": {},
   "outputs": [],
   "source": [
    "suburb_df.columns =[[\"SA2 Name\",\"median_income\",\"median_rent\",\"median_mortgage_repayment\"]]"
   ]
  },
  {
   "cell_type": "code",
   "execution_count": 20,
   "metadata": {},
   "outputs": [
    {
     "data": {
      "text/html": [
       "<div>\n",
       "<style scoped>\n",
       "    .dataframe tbody tr th:only-of-type {\n",
       "        vertical-align: middle;\n",
       "    }\n",
       "\n",
       "    .dataframe tbody tr th {\n",
       "        vertical-align: top;\n",
       "    }\n",
       "\n",
       "    .dataframe thead tr th {\n",
       "        text-align: left;\n",
       "    }\n",
       "</style>\n",
       "<table border=\"1\" class=\"dataframe\">\n",
       "  <thead>\n",
       "    <tr>\n",
       "      <th></th>\n",
       "      <th>SA2 Name</th>\n",
       "      <th>median_income</th>\n",
       "      <th>median_rent</th>\n",
       "      <th>median_mortgage_repayment</th>\n",
       "    </tr>\n",
       "  </thead>\n",
       "  <tbody>\n",
       "    <tr>\n",
       "      <th>0</th>\n",
       "      <td>Dawesville - Bouvard</td>\n",
       "      <td>1584.677419</td>\n",
       "      <td>358.955224</td>\n",
       "      <td>467.842236</td>\n",
       "    </tr>\n",
       "    <tr>\n",
       "      <th>1</th>\n",
       "      <td>Falcon - Wannanup</td>\n",
       "      <td>1486.918605</td>\n",
       "      <td>342.460317</td>\n",
       "      <td>443.090411</td>\n",
       "    </tr>\n",
       "    <tr>\n",
       "      <th>2</th>\n",
       "      <td>Greenfields</td>\n",
       "      <td>1192.934783</td>\n",
       "      <td>306.119792</td>\n",
       "      <td>359.553526</td>\n",
       "    </tr>\n",
       "    <tr>\n",
       "      <th>3</th>\n",
       "      <td>Halls Head - Erskine</td>\n",
       "      <td>1627.840909</td>\n",
       "      <td>360.374494</td>\n",
       "      <td>454.794521</td>\n",
       "    </tr>\n",
       "    <tr>\n",
       "      <th>4</th>\n",
       "      <td>Mandurah</td>\n",
       "      <td>1189.174107</td>\n",
       "      <td>290.353881</td>\n",
       "      <td>355.846222</td>\n",
       "    </tr>\n",
       "    <tr>\n",
       "      <th>...</th>\n",
       "      <td>...</td>\n",
       "      <td>...</td>\n",
       "      <td>...</td>\n",
       "      <td>...</td>\n",
       "    </tr>\n",
       "    <tr>\n",
       "      <th>143</th>\n",
       "      <td>Rockingham</td>\n",
       "      <td>1469.791667</td>\n",
       "      <td>305.313589</td>\n",
       "      <td>394.715213</td>\n",
       "    </tr>\n",
       "    <tr>\n",
       "      <th>144</th>\n",
       "      <td>Safety Bay - Shoalwater</td>\n",
       "      <td>1669.254658</td>\n",
       "      <td>314.106145</td>\n",
       "      <td>425.851774</td>\n",
       "    </tr>\n",
       "    <tr>\n",
       "      <th>145</th>\n",
       "      <td>Singleton - Golden Bay - Secret Harbour</td>\n",
       "      <td>2219.629630</td>\n",
       "      <td>391.158537</td>\n",
       "      <td>491.695689</td>\n",
       "    </tr>\n",
       "    <tr>\n",
       "      <th>146</th>\n",
       "      <td>Waikiki</td>\n",
       "      <td>1776.376147</td>\n",
       "      <td>350.290698</td>\n",
       "      <td>413.245980</td>\n",
       "    </tr>\n",
       "    <tr>\n",
       "      <th>147</th>\n",
       "      <td>Warnbro</td>\n",
       "      <td>1615.327381</td>\n",
       "      <td>339.320388</td>\n",
       "      <td>394.160058</td>\n",
       "    </tr>\n",
       "  </tbody>\n",
       "</table>\n",
       "<p>148 rows × 4 columns</p>\n",
       "</div>"
      ],
      "text/plain": [
       "                                    SA2 Name median_income median_rent  \\\n",
       "0                       Dawesville - Bouvard   1584.677419  358.955224   \n",
       "1                          Falcon - Wannanup   1486.918605  342.460317   \n",
       "2                                Greenfields   1192.934783  306.119792   \n",
       "3                       Halls Head - Erskine   1627.840909  360.374494   \n",
       "4                                   Mandurah   1189.174107  290.353881   \n",
       "..                                       ...           ...         ...   \n",
       "143                               Rockingham   1469.791667  305.313589   \n",
       "144                  Safety Bay - Shoalwater   1669.254658  314.106145   \n",
       "145  Singleton - Golden Bay - Secret Harbour   2219.629630  391.158537   \n",
       "146                                  Waikiki   1776.376147  350.290698   \n",
       "147                                  Warnbro   1615.327381  339.320388   \n",
       "\n",
       "    median_mortgage_repayment  \n",
       "0                  467.842236  \n",
       "1                  443.090411  \n",
       "2                  359.553526  \n",
       "3                  454.794521  \n",
       "4                  355.846222  \n",
       "..                        ...  \n",
       "143                394.715213  \n",
       "144                425.851774  \n",
       "145                491.695689  \n",
       "146                413.245980  \n",
       "147                394.160058  \n",
       "\n",
       "[148 rows x 4 columns]"
      ]
     },
     "execution_count": 20,
     "metadata": {},
     "output_type": "execute_result"
    }
   ],
   "source": [
    "suburb_df"
   ]
  },
  {
   "cell_type": "markdown",
   "metadata": {},
   "source": [
    "Affordable Housing Index (HIA Housing Affordability Index Methodology)\n",
    "\n",
    "https://hia.com.au/-/media/HIA-Website/Files/IndustryBusiness/Economic/publications/affordability-index-methodology.ashx\n",
    "\n",
    "Usign Mortgage repayment:\n",
    "Affordability Index(Mortgage repayments) = (Weekly Earnings x 100) / Qualifying Income\n",
    "\n",
    "Qualifying Income = Mortgage Repayments / 30%\n",
    "\n",
    "* This time usign median insted of average as average has more impact from outlier."
   ]
  },
  {
   "cell_type": "code",
   "execution_count": 21,
   "metadata": {},
   "outputs": [
    {
     "name": "stderr",
     "output_type": "stream",
     "text": [
      "C:\\Users\\khiro\\anaconda3\\lib\\site-packages\\ipykernel_launcher.py:1: SettingWithCopyWarning: \n",
      "A value is trying to be set on a copy of a slice from a DataFrame.\n",
      "Try using .loc[row_indexer,col_indexer] = value instead\n",
      "\n",
      "See the caveats in the documentation: https://pandas.pydata.org/pandas-docs/stable/user_guide/indexing.html#returning-a-view-versus-a-copy\n",
      "  \"\"\"Entry point for launching an IPython kernel.\n",
      "C:\\Users\\khiro\\anaconda3\\lib\\site-packages\\ipykernel_launcher.py:2: SettingWithCopyWarning: \n",
      "A value is trying to be set on a copy of a slice from a DataFrame.\n",
      "Try using .loc[row_indexer,col_indexer] = value instead\n",
      "\n",
      "See the caveats in the documentation: https://pandas.pydata.org/pandas-docs/stable/user_guide/indexing.html#returning-a-view-versus-a-copy\n",
      "  \n"
     ]
    }
   ],
   "source": [
    "suburb_df[\"qualyfing_income(mortgage)\"] = suburb_df.iloc[:,3] / 0.3\n",
    "suburb_df[\"affordability_index(mortgage)\"] = suburb_df.iloc[:,1] * 100 /  suburb_df.iloc[:,4]"
   ]
  },
  {
   "cell_type": "code",
   "execution_count": 22,
   "metadata": {},
   "outputs": [
    {
     "name": "stderr",
     "output_type": "stream",
     "text": [
      "C:\\Users\\khiro\\anaconda3\\lib\\site-packages\\ipykernel_launcher.py:1: SettingWithCopyWarning: \n",
      "A value is trying to be set on a copy of a slice from a DataFrame.\n",
      "Try using .loc[row_indexer,col_indexer] = value instead\n",
      "\n",
      "See the caveats in the documentation: https://pandas.pydata.org/pandas-docs/stable/user_guide/indexing.html#returning-a-view-versus-a-copy\n",
      "  \"\"\"Entry point for launching an IPython kernel.\n"
     ]
    }
   ],
   "source": [
    "suburb_df[\"qualyfing_income(rent)\"] = suburb_df.iloc[:,2] / 0.3\n",
    "suburb_df[\"affordability_index(rent)\"] = suburb_df.iloc[:,1] * 100 /  suburb_df.iloc[:,6]"
   ]
  },
  {
   "cell_type": "code",
   "execution_count": 24,
   "metadata": {},
   "outputs": [],
   "source": [
    "suburb_df.to_csv(\"resources/affordability.csv\")"
   ]
  },
  {
   "cell_type": "code",
   "execution_count": null,
   "metadata": {},
   "outputs": [],
   "source": []
  }
 ],
 "metadata": {
  "kernelspec": {
   "display_name": "Python 3",
   "language": "python",
   "name": "python3"
  },
  "language_info": {
   "codemirror_mode": {
    "name": "ipython",
    "version": 3
   },
   "file_extension": ".py",
   "mimetype": "text/x-python",
   "name": "python",
   "nbconvert_exporter": "python",
   "pygments_lexer": "ipython3",
   "version": "3.7.6"
  }
 },
 "nbformat": 4,
 "nbformat_minor": 4
}
