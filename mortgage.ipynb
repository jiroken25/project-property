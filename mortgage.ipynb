{
 "cells": [
  {
   "cell_type": "code",
   "execution_count": 1,
   "metadata": {},
   "outputs": [],
   "source": [
    "import requests\n",
    "import pandas as pd\n",
    "import matplotlib.pyplot as plt\n",
    "import numpy as np\n",
    "import json\n",
    "\n"
   ]
  },
  {
   "cell_type": "code",
   "execution_count": 2,
   "metadata": {},
   "outputs": [
    {
     "data": {
      "text/html": [
       "<div>\n",
       "<style scoped>\n",
       "    .dataframe tbody tr th:only-of-type {\n",
       "        vertical-align: middle;\n",
       "    }\n",
       "\n",
       "    .dataframe tbody tr th {\n",
       "        vertical-align: top;\n",
       "    }\n",
       "\n",
       "    .dataframe thead th {\n",
       "        text-align: right;\n",
       "    }\n",
       "</style>\n",
       "<table border=\"1\" class=\"dataframe\">\n",
       "  <thead>\n",
       "    <tr style=\"text-align: right;\">\n",
       "      <th></th>\n",
       "      <th>SA2_MAINCODE_2016</th>\n",
       "      <th>SA2_5DIGITCODE_2016</th>\n",
       "      <th>SA2_NAME_2016</th>\n",
       "      <th>SA3_CODE_2016</th>\n",
       "      <th>SA3_NAME_2016</th>\n",
       "      <th>SA4_CODE_2016</th>\n",
       "      <th>SA4_NAME_2016</th>\n",
       "      <th>GCCSA_CODE_2016</th>\n",
       "      <th>GCCSA_NAME_2016</th>\n",
       "      <th>STATE_CODE_2016</th>\n",
       "      <th>STATE_NAME_2016</th>\n",
       "      <th>AREA_ALBERS_SQKM</th>\n",
       "    </tr>\n",
       "  </thead>\n",
       "  <tbody>\n",
       "    <tr>\n",
       "      <th>1768</th>\n",
       "      <td>502011021</td>\n",
       "      <td>51021</td>\n",
       "      <td>Dawesville - Bouvard</td>\n",
       "      <td>50201</td>\n",
       "      <td>Mandurah</td>\n",
       "      <td>502</td>\n",
       "      <td>Mandurah</td>\n",
       "      <td>5GPER</td>\n",
       "      <td>Greater Perth</td>\n",
       "      <td>5</td>\n",
       "      <td>Western Australia</td>\n",
       "      <td>97.9248</td>\n",
       "    </tr>\n",
       "    <tr>\n",
       "      <th>1769</th>\n",
       "      <td>502011022</td>\n",
       "      <td>51022</td>\n",
       "      <td>Falcon - Wannanup</td>\n",
       "      <td>50201</td>\n",
       "      <td>Mandurah</td>\n",
       "      <td>502</td>\n",
       "      <td>Mandurah</td>\n",
       "      <td>5GPER</td>\n",
       "      <td>Greater Perth</td>\n",
       "      <td>5</td>\n",
       "      <td>Western Australia</td>\n",
       "      <td>9.5893</td>\n",
       "    </tr>\n",
       "    <tr>\n",
       "      <th>1770</th>\n",
       "      <td>502011023</td>\n",
       "      <td>51023</td>\n",
       "      <td>Greenfields</td>\n",
       "      <td>50201</td>\n",
       "      <td>Mandurah</td>\n",
       "      <td>502</td>\n",
       "      <td>Mandurah</td>\n",
       "      <td>5GPER</td>\n",
       "      <td>Greater Perth</td>\n",
       "      <td>5</td>\n",
       "      <td>Western Australia</td>\n",
       "      <td>9.9609</td>\n",
       "    </tr>\n",
       "    <tr>\n",
       "      <th>1771</th>\n",
       "      <td>502011024</td>\n",
       "      <td>51024</td>\n",
       "      <td>Halls Head - Erskine</td>\n",
       "      <td>50201</td>\n",
       "      <td>Mandurah</td>\n",
       "      <td>502</td>\n",
       "      <td>Mandurah</td>\n",
       "      <td>5GPER</td>\n",
       "      <td>Greater Perth</td>\n",
       "      <td>5</td>\n",
       "      <td>Western Australia</td>\n",
       "      <td>14.2469</td>\n",
       "    </tr>\n",
       "    <tr>\n",
       "      <th>1772</th>\n",
       "      <td>502011025</td>\n",
       "      <td>51025</td>\n",
       "      <td>Mandurah</td>\n",
       "      <td>50201</td>\n",
       "      <td>Mandurah</td>\n",
       "      <td>502</td>\n",
       "      <td>Mandurah</td>\n",
       "      <td>5GPER</td>\n",
       "      <td>Greater Perth</td>\n",
       "      <td>5</td>\n",
       "      <td>Western Australia</td>\n",
       "      <td>8.3954</td>\n",
       "    </tr>\n",
       "  </tbody>\n",
       "</table>\n",
       "</div>"
      ],
      "text/plain": [
       "      SA2_MAINCODE_2016  SA2_5DIGITCODE_2016         SA2_NAME_2016  \\\n",
       "1768          502011021                51021  Dawesville - Bouvard   \n",
       "1769          502011022                51022     Falcon - Wannanup   \n",
       "1770          502011023                51023           Greenfields   \n",
       "1771          502011024                51024  Halls Head - Erskine   \n",
       "1772          502011025                51025              Mandurah   \n",
       "\n",
       "      SA3_CODE_2016 SA3_NAME_2016  SA4_CODE_2016 SA4_NAME_2016  \\\n",
       "1768          50201      Mandurah            502      Mandurah   \n",
       "1769          50201      Mandurah            502      Mandurah   \n",
       "1770          50201      Mandurah            502      Mandurah   \n",
       "1771          50201      Mandurah            502      Mandurah   \n",
       "1772          50201      Mandurah            502      Mandurah   \n",
       "\n",
       "     GCCSA_CODE_2016 GCCSA_NAME_2016  STATE_CODE_2016    STATE_NAME_2016  \\\n",
       "1768           5GPER   Greater Perth                5  Western Australia   \n",
       "1769           5GPER   Greater Perth                5  Western Australia   \n",
       "1770           5GPER   Greater Perth                5  Western Australia   \n",
       "1771           5GPER   Greater Perth                5  Western Australia   \n",
       "1772           5GPER   Greater Perth                5  Western Australia   \n",
       "\n",
       "      AREA_ALBERS_SQKM  \n",
       "1768           97.9248  \n",
       "1769            9.5893  \n",
       "1770            9.9609  \n",
       "1771           14.2469  \n",
       "1772            8.3954  "
      ]
     },
     "execution_count": 2,
     "metadata": {},
     "output_type": "execute_result"
    }
   ],
   "source": [
    "# Get Statistic Area level 2 information from csv file\n",
    "sa2_df = pd.read_csv(\"resources/SA2_2016_AUST.csv\")\n",
    "\n",
    "# Filter the information to show Greater Perth Only\n",
    "sa2_perth_df = sa2_df[sa2_df[\"GCCSA_NAME_2016\"] == \"Greater Perth\"]\n",
    "\n",
    "sa2_perth_df.head()\n"
   ]
  },
  {
   "cell_type": "code",
   "execution_count": 3,
   "metadata": {},
   "outputs": [],
   "source": [
    "# Store information into the dictionaly\n",
    "repay_dict = {\"SA2 Name\":[],\"$1-$149\":[], \"$150-$299\":[], \"$300-$449\":[], \"$450-$599\":[],\n",
    "              \"$600-$799\":[], \"$800-$999\":[], \"$1,000-$1,199\":[], \"$1,200-$1,399\":[],\n",
    "              \"$1,400-$1,599\":[], \"$1,600-$1,799\":[], \"$1,800-$1,999\":[], \"$2,000-$2,199\":[],\n",
    "              \"$2,200-$2,399\":[], \"$2,400-$2,599\":[], \"$2,600-$2,999\":[], \"$3,000-$3,999\":[], \"$4,000-$4,999\":[], \"$5,000 and over\":[]}\n",
    "\n",
    "#   Data:  One family household with only family members present\n",
    "for code in sa2_perth_df[\"SA2_MAINCODE_2016\"]:\n",
    "    sa2_code = str(code)\n",
    "    report_range = np.arange(2,20)\n",
    "    repay_dict[\"SA2 Name\"].append(sa2_perth_df.loc[sa2_perth_df[\"SA2_MAINCODE_2016\"]==code,\"SA2_NAME_2016\"].values[0])\n",
    "\n",
    "# Report type start with 03 and finish 22\n",
    "    for number in report_range:\n",
    "        report_type = \"{0:0=2d}\".format(number)\n",
    "        abs_url = f\"http://stat.data.abs.gov.au/sdmx-json/data/ABS_C16_T25_TS_SA/{report_type}.TOT.5.SA2.{code}/all?detail=Full&dimensionAtObservation=AllDimensions&startPeriod=2016\"\n",
    "        response = requests.get(abs_url)\n",
    "        data = response.json()\n",
    "#abs data name is set as key of dictionary, and data was included in observations\n",
    "        repay_dict[f'{data[\"structure\"][\"dimensions\"][\"observation\"][0][\"values\"][0][\"name\"]}'].append(data[\"dataSets\"][0][\"observations\"][\"0:0:0:0:0:0\"][0])\n",
    "\n",
    "\n"
   ]
  },
  {
   "cell_type": "code",
   "execution_count": 43,
   "metadata": {},
   "outputs": [],
   "source": [
    "repay_df = pd.DataFrame(repay_dict)"
   ]
  },
  {
   "cell_type": "code",
   "execution_count": 44,
   "metadata": {},
   "outputs": [],
   "source": [
    "# Rename the columns to see the data more easily\n",
    "repay_df.columns = [\"SA2 Name\", \"1-149\", \"150-299\", \"300-449\", \"450-599\", \"600-799\",\n",
    "                    \"800-999\", \"1,000-1,199\", \"1,200-1,399\", \"1,400-1,599\", \"1,600-1,799\",\n",
    "                    \"1,800-1,999\", \"2,000-2,199\", \"2,200-2,399\", \"2,400-2,599\", \"2,600-2,999\",\n",
    "                    \"3,000-3,999\", \"4,000-4,999\", \"5,000 and over\"]\n",
    "\n",
    "# To calculate the median from histogram \n",
    "bin_size = [150, 150, 150, 150, 200, 200, 200, 200, 200, 200, 200, 200, 200, 200, 400, 1000, 1000, 1000]\n",
    "bin_left = [1, 150, 300, 450, 600, 800, 1000, 1200, 1400, 1600, 1800, 2000, 2200, 2400, 2600, 3000, 4000, 5000]"
   ]
  },
  {
   "cell_type": "markdown",
   "metadata": {},
   "source": [
    "# Median from Histogram\n",
    "\n",
    "Use interpolated Median\n",
    "\n",
    "\n",
    "reference url\n",
    "https://www.vivaxsolutions.com/maths/allnrintpltn.aspx\n",
    "\n",
    "https://math.stackexchange.com/questions/2591946/how-to-find-median-from-a-histogram\n",
    "\n",
    "Median=   l+  (n/2−F)/fm *w\n",
    "where l is the lower border of the median group, F is the cumulative frequency up to the median group, fm is the frequency of the median group, w is the width of the median group. "
   ]
  },
  {
   "cell_type": "code",
   "execution_count": 45,
   "metadata": {},
   "outputs": [],
   "source": [
    "repay_df[\"Total\"] = repay_df.iloc[:,1:19].sum(axis=1)"
   ]
  },
  {
   "cell_type": "code",
   "execution_count": 46,
   "metadata": {},
   "outputs": [],
   "source": [
    "clean_df = repay_df[repay_df[\"Total\"] > 100]"
   ]
  },
  {
   "cell_type": "code",
   "execution_count": 47,
   "metadata": {},
   "outputs": [
    {
     "name": "stderr",
     "output_type": "stream",
     "text": [
      "C:\\Users\\khiro\\anaconda3\\lib\\site-packages\\ipykernel_launcher.py:1: SettingWithCopyWarning: \n",
      "A value is trying to be set on a copy of a slice from a DataFrame.\n",
      "Try using .loc[row_indexer,col_indexer] = value instead\n",
      "\n",
      "See the caveats in the documentation: https://pandas.pydata.org/pandas-docs/stable/user_guide/indexing.html#returning-a-view-versus-a-copy\n",
      "  \"\"\"Entry point for launching an IPython kernel.\n"
     ]
    },
    {
     "data": {
      "text/plain": [
       "Index(['SA2 Name', '1-149', '150-299', '300-449', '450-599', '600-799',\n",
       "       '800-999', '1,000-1,199', '1,200-1,399', '1,400-1,599', '1,600-1,799',\n",
       "       '1,800-1,999', '2,000-2,199', '2,200-2,399', '2,400-2,599',\n",
       "       '2,600-2,999', '3,000-3,999', '4,000-4,999', '5,000 and over', 'Total',\n",
       "       'Median'],\n",
       "      dtype='object')"
      ]
     },
     "execution_count": 47,
     "metadata": {},
     "output_type": "execute_result"
    }
   ],
   "source": [
    "clean_df[\"Median\"] =\"\"\n",
    "clean_df = clean_df.reset_index()\n",
    "clean_df = clean_df.iloc[:,1:]\n",
    "\n",
    "clean_df.columns"
   ]
  },
  {
   "cell_type": "code",
   "execution_count": 48,
   "metadata": {},
   "outputs": [],
   "source": [
    "#Calculate Median from histgram value (search the index which exceeds (total number /2) )\n",
    "for index_k,row in clean_df.iterrows():\n",
    "    counter = 0\n",
    "    i = 1\n",
    "    while counter < (row[19]+1)/2:\n",
    "        counter = counter + row[i]\n",
    "        i = i + 1\n",
    "# Linear interpolation   lower border + ((total number +1)/2 - frequency up to the median group) / frequency of median group  * width of median group\n",
    "    median = bin_left[i-2] + ((row[19]+1)/2 - (counter - row[i-1])) * bin_size[i-2] / (row[i-1])\n",
    "    clean_df.iloc[index_k,20] = median\n",
    "    "
   ]
  },
  {
   "cell_type": "code",
   "execution_count": 51,
   "metadata": {},
   "outputs": [],
   "source": [
    "clean_df.to_csv(\"resources/mortgage_repayment.csv\")"
   ]
  },
  {
   "cell_type": "code",
   "execution_count": 53,
   "metadata": {},
   "outputs": [
    {
     "data": {
      "text/html": [
       "<div>\n",
       "<style scoped>\n",
       "    .dataframe tbody tr th:only-of-type {\n",
       "        vertical-align: middle;\n",
       "    }\n",
       "\n",
       "    .dataframe tbody tr th {\n",
       "        vertical-align: top;\n",
       "    }\n",
       "\n",
       "    .dataframe thead th {\n",
       "        text-align: right;\n",
       "    }\n",
       "</style>\n",
       "<table border=\"1\" class=\"dataframe\">\n",
       "  <thead>\n",
       "    <tr style=\"text-align: right;\">\n",
       "      <th></th>\n",
       "      <th>SA2 Name</th>\n",
       "      <th>Median</th>\n",
       "    </tr>\n",
       "  </thead>\n",
       "  <tbody>\n",
       "    <tr>\n",
       "      <th>0</th>\n",
       "      <td>Dawesville - Bouvard</td>\n",
       "      <td>2032.89</td>\n",
       "    </tr>\n",
       "    <tr>\n",
       "      <th>1</th>\n",
       "      <td>Falcon - Wannanup</td>\n",
       "      <td>1925.33</td>\n",
       "    </tr>\n",
       "    <tr>\n",
       "      <th>2</th>\n",
       "      <td>Greenfields</td>\n",
       "      <td>1562.35</td>\n",
       "    </tr>\n",
       "    <tr>\n",
       "      <th>3</th>\n",
       "      <td>Halls Head - Erskine</td>\n",
       "      <td>1976.19</td>\n",
       "    </tr>\n",
       "    <tr>\n",
       "      <th>4</th>\n",
       "      <td>Mandurah</td>\n",
       "      <td>1546.24</td>\n",
       "    </tr>\n",
       "    <tr>\n",
       "      <th>...</th>\n",
       "      <td>...</td>\n",
       "      <td>...</td>\n",
       "    </tr>\n",
       "    <tr>\n",
       "      <th>146</th>\n",
       "      <td>Rockingham</td>\n",
       "      <td>1715.13</td>\n",
       "    </tr>\n",
       "    <tr>\n",
       "      <th>147</th>\n",
       "      <td>Safety Bay - Shoalwater</td>\n",
       "      <td>1850.43</td>\n",
       "    </tr>\n",
       "    <tr>\n",
       "      <th>148</th>\n",
       "      <td>Singleton - Golden Bay - Secret Harbour</td>\n",
       "      <td>2136.53</td>\n",
       "    </tr>\n",
       "    <tr>\n",
       "      <th>149</th>\n",
       "      <td>Waikiki</td>\n",
       "      <td>1795.65</td>\n",
       "    </tr>\n",
       "    <tr>\n",
       "      <th>150</th>\n",
       "      <td>Warnbro</td>\n",
       "      <td>1712.72</td>\n",
       "    </tr>\n",
       "  </tbody>\n",
       "</table>\n",
       "<p>151 rows × 2 columns</p>\n",
       "</div>"
      ],
      "text/plain": [
       "                                    SA2 Name   Median\n",
       "0                       Dawesville - Bouvard  2032.89\n",
       "1                          Falcon - Wannanup  1925.33\n",
       "2                                Greenfields  1562.35\n",
       "3                       Halls Head - Erskine  1976.19\n",
       "4                                   Mandurah  1546.24\n",
       "..                                       ...      ...\n",
       "146                               Rockingham  1715.13\n",
       "147                  Safety Bay - Shoalwater  1850.43\n",
       "148  Singleton - Golden Bay - Secret Harbour  2136.53\n",
       "149                                  Waikiki  1795.65\n",
       "150                                  Warnbro  1712.72\n",
       "\n",
       "[151 rows x 2 columns]"
      ]
     },
     "execution_count": 53,
     "metadata": {},
     "output_type": "execute_result"
    }
   ],
   "source": [
    "# get suburb name (SA2) and Median\n",
    "clean_df[[\"SA2 Name\",\"Median\"]]"
   ]
  },
  {
   "cell_type": "code",
   "execution_count": 65,
   "metadata": {},
   "outputs": [],
   "source": [
    "repay_median = clean_df[[\"SA2 Name\",\"Median\"]]"
   ]
  },
  {
   "cell_type": "code",
   "execution_count": 66,
   "metadata": {},
   "outputs": [
    {
     "name": "stderr",
     "output_type": "stream",
     "text": [
      "C:\\Users\\khiro\\anaconda3\\lib\\site-packages\\ipykernel_launcher.py:2: SettingWithCopyWarning: \n",
      "A value is trying to be set on a copy of a slice from a DataFrame.\n",
      "Try using .loc[row_indexer,col_indexer] = value instead\n",
      "\n",
      "See the caveats in the documentation: https://pandas.pydata.org/pandas-docs/stable/user_guide/indexing.html#returning-a-view-versus-a-copy\n",
      "  \n"
     ]
    }
   ],
   "source": [
    "# Calclate Weekly data from monthly data\n",
    "repay_median[\"weekly repayment(median)\"] = repay_median[\"Median\"] * 12 / 365 * 7\n"
   ]
  },
  {
   "cell_type": "code",
   "execution_count": 68,
   "metadata": {},
   "outputs": [],
   "source": [
    "repay_median.to_csv(\"resources/mortgage_median.csv\")"
   ]
  },
  {
   "cell_type": "code",
   "execution_count": null,
   "metadata": {},
   "outputs": [],
   "source": []
  }
 ],
 "metadata": {
  "kernelspec": {
   "display_name": "Python 3",
   "language": "python",
   "name": "python3"
  },
  "language_info": {
   "codemirror_mode": {
    "name": "ipython",
    "version": 3
   },
   "file_extension": ".py",
   "mimetype": "text/x-python",
   "name": "python",
   "nbconvert_exporter": "python",
   "pygments_lexer": "ipython3",
   "version": "3.7.6"
  }
 },
 "nbformat": 4,
 "nbformat_minor": 4
}
